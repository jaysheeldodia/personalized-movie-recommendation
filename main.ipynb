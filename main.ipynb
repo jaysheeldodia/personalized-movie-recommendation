{
 "cells": [
  {
   "cell_type": "code",
   "execution_count": 2,
   "metadata": {},
   "outputs": [],
   "source": [
    "import pandas as pd\n",
    "import numpy as np\n",
    "\n",
    "import matplotlib.pyplot as plt\n",
    "%matplotlib inline"
   ]
  },
  {
   "cell_type": "code",
   "execution_count": null,
   "metadata": {},
   "outputs": [],
   "source": [
    "movies_data = pd.read_csv(\n",
    "    \"data/movies.dat\",\n",
    "    sep=\"::\",\n",
    "    engine=\"python\",\n",
    "    encoding=\"latin-1\",\n",
    "    names=[\"MovieID\", \"Title\", \"Genres\"]\n",
    ")\n",
    "\n",
    "ratings_data = pd.read_csv(\n",
    "    \"data/ratings.dat\",\n",
    "    sep=\"::\",\n",
    "    engine=\"python\",\n",
    "    encoding=\"latin-1\",\n",
    "    names=[\"UserID\", \"MovieID\", \"Rating\", \"Timestamp\"]\n",
    ")\n",
    "\n",
    "users_data = pd.read_csv(\n",
    "    \"data/users.dat\",\n",
    "    sep=\"::\",\n",
    "    engine=\"python\",\n",
    "    encoding=\"latin-1\",\n",
    "    names=[\"UserID\", \"Gender\", \"Age\", \"Occupation\", \"Zip-code\"]\n",
    ")"
   ]
  },
  {
   "cell_type": "markdown",
   "metadata": {},
   "source": [
    "## Explore data"
   ]
  },
  {
   "cell_type": "code",
   "execution_count": null,
   "metadata": {},
   "outputs": [
    {
     "data": {
      "text/html": [
       "<div>\n",
       "<style scoped>\n",
       "    .dataframe tbody tr th:only-of-type {\n",
       "        vertical-align: middle;\n",
       "    }\n",
       "\n",
       "    .dataframe tbody tr th {\n",
       "        vertical-align: top;\n",
       "    }\n",
       "\n",
       "    .dataframe thead th {\n",
       "        text-align: right;\n",
       "    }\n",
       "</style>\n",
       "<table border=\"1\" class=\"dataframe\">\n",
       "  <thead>\n",
       "    <tr style=\"text-align: right;\">\n",
       "      <th></th>\n",
       "      <th>MovieID</th>\n",
       "      <th>Title</th>\n",
       "      <th>Genres</th>\n",
       "    </tr>\n",
       "  </thead>\n",
       "  <tbody>\n",
       "    <tr>\n",
       "      <th>0</th>\n",
       "      <td>1</td>\n",
       "      <td>Toy Story (1995)</td>\n",
       "      <td>Animation|Children's|Comedy</td>\n",
       "    </tr>\n",
       "    <tr>\n",
       "      <th>1</th>\n",
       "      <td>2</td>\n",
       "      <td>Jumanji (1995)</td>\n",
       "      <td>Adventure|Children's|Fantasy</td>\n",
       "    </tr>\n",
       "    <tr>\n",
       "      <th>2</th>\n",
       "      <td>3</td>\n",
       "      <td>Grumpier Old Men (1995)</td>\n",
       "      <td>Comedy|Romance</td>\n",
       "    </tr>\n",
       "    <tr>\n",
       "      <th>3</th>\n",
       "      <td>4</td>\n",
       "      <td>Waiting to Exhale (1995)</td>\n",
       "      <td>Comedy|Drama</td>\n",
       "    </tr>\n",
       "    <tr>\n",
       "      <th>4</th>\n",
       "      <td>5</td>\n",
       "      <td>Father of the Bride Part II (1995)</td>\n",
       "      <td>Comedy</td>\n",
       "    </tr>\n",
       "  </tbody>\n",
       "</table>\n",
       "</div>"
      ],
      "text/plain": [
       "   MovieID                               Title                        Genres\n",
       "0        1                    Toy Story (1995)   Animation|Children's|Comedy\n",
       "1        2                      Jumanji (1995)  Adventure|Children's|Fantasy\n",
       "2        3             Grumpier Old Men (1995)                Comedy|Romance\n",
       "3        4            Waiting to Exhale (1995)                  Comedy|Drama\n",
       "4        5  Father of the Bride Part II (1995)                        Comedy"
      ]
     },
     "execution_count": 4,
     "metadata": {},
     "output_type": "execute_result"
    }
   ],
   "source": [
    "movies_data.head()"
   ]
  },
  {
   "cell_type": "code",
   "execution_count": 5,
   "metadata": {},
   "outputs": [
    {
     "data": {
      "text/html": [
       "<div>\n",
       "<style scoped>\n",
       "    .dataframe tbody tr th:only-of-type {\n",
       "        vertical-align: middle;\n",
       "    }\n",
       "\n",
       "    .dataframe tbody tr th {\n",
       "        vertical-align: top;\n",
       "    }\n",
       "\n",
       "    .dataframe thead th {\n",
       "        text-align: right;\n",
       "    }\n",
       "</style>\n",
       "<table border=\"1\" class=\"dataframe\">\n",
       "  <thead>\n",
       "    <tr style=\"text-align: right;\">\n",
       "      <th></th>\n",
       "      <th>UserID</th>\n",
       "      <th>MovieID</th>\n",
       "      <th>Rating</th>\n",
       "      <th>Timestamp</th>\n",
       "    </tr>\n",
       "  </thead>\n",
       "  <tbody>\n",
       "    <tr>\n",
       "      <th>0</th>\n",
       "      <td>1</td>\n",
       "      <td>1193</td>\n",
       "      <td>5</td>\n",
       "      <td>978300760</td>\n",
       "    </tr>\n",
       "    <tr>\n",
       "      <th>1</th>\n",
       "      <td>1</td>\n",
       "      <td>661</td>\n",
       "      <td>3</td>\n",
       "      <td>978302109</td>\n",
       "    </tr>\n",
       "    <tr>\n",
       "      <th>2</th>\n",
       "      <td>1</td>\n",
       "      <td>914</td>\n",
       "      <td>3</td>\n",
       "      <td>978301968</td>\n",
       "    </tr>\n",
       "    <tr>\n",
       "      <th>3</th>\n",
       "      <td>1</td>\n",
       "      <td>3408</td>\n",
       "      <td>4</td>\n",
       "      <td>978300275</td>\n",
       "    </tr>\n",
       "    <tr>\n",
       "      <th>4</th>\n",
       "      <td>1</td>\n",
       "      <td>2355</td>\n",
       "      <td>5</td>\n",
       "      <td>978824291</td>\n",
       "    </tr>\n",
       "  </tbody>\n",
       "</table>\n",
       "</div>"
      ],
      "text/plain": [
       "   UserID  MovieID  Rating  Timestamp\n",
       "0       1     1193       5  978300760\n",
       "1       1      661       3  978302109\n",
       "2       1      914       3  978301968\n",
       "3       1     3408       4  978300275\n",
       "4       1     2355       5  978824291"
      ]
     },
     "execution_count": 5,
     "metadata": {},
     "output_type": "execute_result"
    }
   ],
   "source": [
    "ratings_data.head()"
   ]
  },
  {
   "cell_type": "code",
   "execution_count": 6,
   "metadata": {},
   "outputs": [
    {
     "data": {
      "text/html": [
       "<div>\n",
       "<style scoped>\n",
       "    .dataframe tbody tr th:only-of-type {\n",
       "        vertical-align: middle;\n",
       "    }\n",
       "\n",
       "    .dataframe tbody tr th {\n",
       "        vertical-align: top;\n",
       "    }\n",
       "\n",
       "    .dataframe thead th {\n",
       "        text-align: right;\n",
       "    }\n",
       "</style>\n",
       "<table border=\"1\" class=\"dataframe\">\n",
       "  <thead>\n",
       "    <tr style=\"text-align: right;\">\n",
       "      <th></th>\n",
       "      <th>UserID</th>\n",
       "      <th>Gender</th>\n",
       "      <th>Age</th>\n",
       "      <th>Occupation</th>\n",
       "      <th>Zip-code</th>\n",
       "    </tr>\n",
       "  </thead>\n",
       "  <tbody>\n",
       "    <tr>\n",
       "      <th>0</th>\n",
       "      <td>1</td>\n",
       "      <td>F</td>\n",
       "      <td>1</td>\n",
       "      <td>10</td>\n",
       "      <td>48067</td>\n",
       "    </tr>\n",
       "    <tr>\n",
       "      <th>1</th>\n",
       "      <td>2</td>\n",
       "      <td>M</td>\n",
       "      <td>56</td>\n",
       "      <td>16</td>\n",
       "      <td>70072</td>\n",
       "    </tr>\n",
       "    <tr>\n",
       "      <th>2</th>\n",
       "      <td>3</td>\n",
       "      <td>M</td>\n",
       "      <td>25</td>\n",
       "      <td>15</td>\n",
       "      <td>55117</td>\n",
       "    </tr>\n",
       "    <tr>\n",
       "      <th>3</th>\n",
       "      <td>4</td>\n",
       "      <td>M</td>\n",
       "      <td>45</td>\n",
       "      <td>7</td>\n",
       "      <td>02460</td>\n",
       "    </tr>\n",
       "    <tr>\n",
       "      <th>4</th>\n",
       "      <td>5</td>\n",
       "      <td>M</td>\n",
       "      <td>25</td>\n",
       "      <td>20</td>\n",
       "      <td>55455</td>\n",
       "    </tr>\n",
       "  </tbody>\n",
       "</table>\n",
       "</div>"
      ],
      "text/plain": [
       "   UserID Gender  Age  Occupation Zip-code\n",
       "0       1      F    1          10    48067\n",
       "1       2      M   56          16    70072\n",
       "2       3      M   25          15    55117\n",
       "3       4      M   45           7    02460\n",
       "4       5      M   25          20    55455"
      ]
     },
     "execution_count": 6,
     "metadata": {},
     "output_type": "execute_result"
    }
   ],
   "source": [
    "users_data.head()\n"
   ]
  },
  {
   "cell_type": "markdown",
   "metadata": {},
   "source": [
    "## Check for Missing Value"
   ]
  },
  {
   "cell_type": "code",
   "execution_count": 7,
   "metadata": {},
   "outputs": [
    {
     "data": {
      "text/plain": [
       "MovieID    0\n",
       "Title      0\n",
       "Genres     0\n",
       "dtype: int64"
      ]
     },
     "execution_count": 7,
     "metadata": {},
     "output_type": "execute_result"
    }
   ],
   "source": [
    "movies_data.isna().sum()"
   ]
  },
  {
   "cell_type": "code",
   "execution_count": 8,
   "metadata": {},
   "outputs": [
    {
     "data": {
      "text/plain": [
       "UserID       0\n",
       "MovieID      0\n",
       "Rating       0\n",
       "Timestamp    0\n",
       "dtype: int64"
      ]
     },
     "execution_count": 8,
     "metadata": {},
     "output_type": "execute_result"
    }
   ],
   "source": [
    "ratings_data.isna().sum()"
   ]
  },
  {
   "cell_type": "code",
   "execution_count": 9,
   "metadata": {},
   "outputs": [
    {
     "data": {
      "text/plain": [
       "UserID        0\n",
       "Gender        0\n",
       "Age           0\n",
       "Occupation    0\n",
       "Zip-code      0\n",
       "dtype: int64"
      ]
     },
     "execution_count": 9,
     "metadata": {},
     "output_type": "execute_result"
    }
   ],
   "source": [
    "users_data.isna().sum()"
   ]
  },
  {
   "cell_type": "markdown",
   "metadata": {},
   "source": [
    "## Info"
   ]
  },
  {
   "cell_type": "code",
   "execution_count": 10,
   "metadata": {},
   "outputs": [
    {
     "name": "stdout",
     "output_type": "stream",
     "text": [
      "<class 'pandas.core.frame.DataFrame'>\n",
      "RangeIndex: 3883 entries, 0 to 3882\n",
      "Data columns (total 3 columns):\n",
      " #   Column   Non-Null Count  Dtype \n",
      "---  ------   --------------  ----- \n",
      " 0   MovieID  3883 non-null   int64 \n",
      " 1   Title    3883 non-null   object\n",
      " 2   Genres   3883 non-null   object\n",
      "dtypes: int64(1), object(2)\n",
      "memory usage: 91.1+ KB\n"
     ]
    }
   ],
   "source": [
    "movies_data.info()"
   ]
  },
  {
   "cell_type": "code",
   "execution_count": 11,
   "metadata": {},
   "outputs": [
    {
     "name": "stdout",
     "output_type": "stream",
     "text": [
      "<class 'pandas.core.frame.DataFrame'>\n",
      "RangeIndex: 1000209 entries, 0 to 1000208\n",
      "Data columns (total 4 columns):\n",
      " #   Column     Non-Null Count    Dtype\n",
      "---  ------     --------------    -----\n",
      " 0   UserID     1000209 non-null  int64\n",
      " 1   MovieID    1000209 non-null  int64\n",
      " 2   Rating     1000209 non-null  int64\n",
      " 3   Timestamp  1000209 non-null  int64\n",
      "dtypes: int64(4)\n",
      "memory usage: 30.5 MB\n"
     ]
    }
   ],
   "source": [
    "ratings_data.info()"
   ]
  },
  {
   "cell_type": "code",
   "execution_count": 12,
   "metadata": {},
   "outputs": [
    {
     "name": "stdout",
     "output_type": "stream",
     "text": [
      "<class 'pandas.core.frame.DataFrame'>\n",
      "RangeIndex: 6040 entries, 0 to 6039\n",
      "Data columns (total 5 columns):\n",
      " #   Column      Non-Null Count  Dtype \n",
      "---  ------      --------------  ----- \n",
      " 0   UserID      6040 non-null   int64 \n",
      " 1   Gender      6040 non-null   object\n",
      " 2   Age         6040 non-null   int64 \n",
      " 3   Occupation  6040 non-null   int64 \n",
      " 4   Zip-code    6040 non-null   object\n",
      "dtypes: int64(3), object(2)\n",
      "memory usage: 236.1+ KB\n"
     ]
    }
   ],
   "source": [
    "users_data.info()"
   ]
  },
  {
   "cell_type": "code",
   "execution_count": 13,
   "metadata": {},
   "outputs": [
    {
     "data": {
      "text/plain": [
       "count    1.000209e+06\n",
       "mean     3.581564e+00\n",
       "std      1.117102e+00\n",
       "min      1.000000e+00\n",
       "25%      3.000000e+00\n",
       "50%      4.000000e+00\n",
       "75%      4.000000e+00\n",
       "max      5.000000e+00\n",
       "Name: Rating, dtype: float64"
      ]
     },
     "execution_count": 13,
     "metadata": {},
     "output_type": "execute_result"
    }
   ],
   "source": [
    "ratings_data['Rating'].describe()"
   ]
  },
  {
   "cell_type": "code",
   "execution_count": 14,
   "metadata": {},
   "outputs": [
    {
     "data": {
      "text/plain": [
       "Rating\n",
       "1     56174\n",
       "2    107557\n",
       "3    261197\n",
       "4    348971\n",
       "5    226310\n",
       "Name: count, dtype: int64"
      ]
     },
     "execution_count": 14,
     "metadata": {},
     "output_type": "execute_result"
    }
   ],
   "source": [
    "ratings_data['Rating'].value_counts().sort_index()"
   ]
  },
  {
   "cell_type": "markdown",
   "metadata": {},
   "source": [
    "## User Data"
   ]
  },
  {
   "cell_type": "code",
   "execution_count": 15,
   "metadata": {},
   "outputs": [
    {
     "data": {
      "text/plain": [
       "Gender\n",
       "M    4331\n",
       "F    1709\n",
       "Name: count, dtype: int64"
      ]
     },
     "execution_count": 15,
     "metadata": {},
     "output_type": "execute_result"
    }
   ],
   "source": [
    "users_data['Gender'].value_counts()"
   ]
  },
  {
   "cell_type": "code",
   "execution_count": 16,
   "metadata": {},
   "outputs": [
    {
     "data": {
      "text/plain": [
       "Age\n",
       "1      222\n",
       "18    1103\n",
       "25    2096\n",
       "35    1193\n",
       "45     550\n",
       "50     496\n",
       "56     380\n",
       "Name: count, dtype: int64"
      ]
     },
     "execution_count": 16,
     "metadata": {},
     "output_type": "execute_result"
    }
   ],
   "source": [
    "users_data['Age'].value_counts().sort_index()"
   ]
  },
  {
   "cell_type": "code",
   "execution_count": 17,
   "metadata": {},
   "outputs": [
    {
     "data": {
      "text/plain": [
       "Occupation\n",
       "0     711\n",
       "1     528\n",
       "2     267\n",
       "3     173\n",
       "4     759\n",
       "5     112\n",
       "6     236\n",
       "7     679\n",
       "8      17\n",
       "9      92\n",
       "10    195\n",
       "11    129\n",
       "12    388\n",
       "13    142\n",
       "14    302\n",
       "15    144\n",
       "16    241\n",
       "17    502\n",
       "18     70\n",
       "19     72\n",
       "20    281\n",
       "Name: count, dtype: int64"
      ]
     },
     "execution_count": 17,
     "metadata": {},
     "output_type": "execute_result"
    }
   ],
   "source": [
    "users_data['Occupation'].value_counts().sort_index()"
   ]
  },
  {
   "cell_type": "markdown",
   "metadata": {},
   "source": [
    "## Unique Genre and Top Rated Movies"
   ]
  },
  {
   "cell_type": "code",
   "execution_count": null,
   "metadata": {},
   "outputs": [
    {
     "name": "stdout",
     "output_type": "stream",
     "text": [
      "['Action', 'Adventure', 'Animation', \"Children's\", 'Comedy', 'Crime', 'Documentary', 'Drama', 'Fantasy', 'Film-Noir', 'Horror', 'Musical', 'Mystery', 'Romance', 'Sci-Fi', 'Thriller', 'War', 'Western']\n"
     ]
    }
   ],
   "source": [
    "unique_genres = set()\n",
    "for genre_list in movies_data['Genres']:\n",
    "    for genre in genre_list.split('|'):\n",
    "        unique_genres.add(genre)\n",
    "print(sorted(unique_genres))"
   ]
  },
  {
   "cell_type": "code",
   "execution_count": null,
   "metadata": {},
   "outputs": [],
   "source": [
    "most_rated = ratings_data['MovieID'].value_counts().head(10)"
   ]
  },
  {
   "cell_type": "code",
   "execution_count": null,
   "metadata": {},
   "outputs": [
    {
     "data": {
      "text/html": [
       "<div>\n",
       "<style scoped>\n",
       "    .dataframe tbody tr th:only-of-type {\n",
       "        vertical-align: middle;\n",
       "    }\n",
       "\n",
       "    .dataframe tbody tr th {\n",
       "        vertical-align: top;\n",
       "    }\n",
       "\n",
       "    .dataframe thead th {\n",
       "        text-align: right;\n",
       "    }\n",
       "</style>\n",
       "<table border=\"1\" class=\"dataframe\">\n",
       "  <thead>\n",
       "    <tr style=\"text-align: right;\">\n",
       "      <th></th>\n",
       "      <th>MovieID</th>\n",
       "      <th>Title</th>\n",
       "      <th>Genres</th>\n",
       "    </tr>\n",
       "  </thead>\n",
       "  <tbody>\n",
       "    <tr>\n",
       "      <th>257</th>\n",
       "      <td>260</td>\n",
       "      <td>Star Wars: Episode IV - A New Hope (1977)</td>\n",
       "      <td>Action|Adventure|Fantasy|Sci-Fi</td>\n",
       "    </tr>\n",
       "    <tr>\n",
       "      <th>476</th>\n",
       "      <td>480</td>\n",
       "      <td>Jurassic Park (1993)</td>\n",
       "      <td>Action|Adventure|Sci-Fi</td>\n",
       "    </tr>\n",
       "    <tr>\n",
       "      <th>585</th>\n",
       "      <td>589</td>\n",
       "      <td>Terminator 2: Judgment Day (1991)</td>\n",
       "      <td>Action|Sci-Fi|Thriller</td>\n",
       "    </tr>\n",
       "    <tr>\n",
       "      <th>589</th>\n",
       "      <td>593</td>\n",
       "      <td>Silence of the Lambs, The (1991)</td>\n",
       "      <td>Drama|Thriller</td>\n",
       "    </tr>\n",
       "    <tr>\n",
       "      <th>1178</th>\n",
       "      <td>1196</td>\n",
       "      <td>Star Wars: Episode V - The Empire Strikes Back...</td>\n",
       "      <td>Action|Adventure|Drama|Sci-Fi|War</td>\n",
       "    </tr>\n",
       "    <tr>\n",
       "      <th>1192</th>\n",
       "      <td>1210</td>\n",
       "      <td>Star Wars: Episode VI - Return of the Jedi (1983)</td>\n",
       "      <td>Action|Adventure|Romance|Sci-Fi|War</td>\n",
       "    </tr>\n",
       "    <tr>\n",
       "      <th>1250</th>\n",
       "      <td>1270</td>\n",
       "      <td>Back to the Future (1985)</td>\n",
       "      <td>Comedy|Sci-Fi</td>\n",
       "    </tr>\n",
       "    <tr>\n",
       "      <th>1959</th>\n",
       "      <td>2028</td>\n",
       "      <td>Saving Private Ryan (1998)</td>\n",
       "      <td>Action|Drama|War</td>\n",
       "    </tr>\n",
       "    <tr>\n",
       "      <th>2502</th>\n",
       "      <td>2571</td>\n",
       "      <td>Matrix, The (1999)</td>\n",
       "      <td>Action|Sci-Fi|Thriller</td>\n",
       "    </tr>\n",
       "    <tr>\n",
       "      <th>2789</th>\n",
       "      <td>2858</td>\n",
       "      <td>American Beauty (1999)</td>\n",
       "      <td>Comedy|Drama</td>\n",
       "    </tr>\n",
       "  </tbody>\n",
       "</table>\n",
       "</div>"
      ],
      "text/plain": [
       "      MovieID                                              Title  \\\n",
       "257       260          Star Wars: Episode IV - A New Hope (1977)   \n",
       "476       480                               Jurassic Park (1993)   \n",
       "585       589                  Terminator 2: Judgment Day (1991)   \n",
       "589       593                   Silence of the Lambs, The (1991)   \n",
       "1178     1196  Star Wars: Episode V - The Empire Strikes Back...   \n",
       "1192     1210  Star Wars: Episode VI - Return of the Jedi (1983)   \n",
       "1250     1270                          Back to the Future (1985)   \n",
       "1959     2028                         Saving Private Ryan (1998)   \n",
       "2502     2571                                 Matrix, The (1999)   \n",
       "2789     2858                             American Beauty (1999)   \n",
       "\n",
       "                                   Genres  \n",
       "257       Action|Adventure|Fantasy|Sci-Fi  \n",
       "476               Action|Adventure|Sci-Fi  \n",
       "585                Action|Sci-Fi|Thriller  \n",
       "589                        Drama|Thriller  \n",
       "1178    Action|Adventure|Drama|Sci-Fi|War  \n",
       "1192  Action|Adventure|Romance|Sci-Fi|War  \n",
       "1250                        Comedy|Sci-Fi  \n",
       "1959                     Action|Drama|War  \n",
       "2502               Action|Sci-Fi|Thriller  \n",
       "2789                         Comedy|Drama  "
      ]
     },
     "execution_count": 20,
     "metadata": {},
     "output_type": "execute_result"
    }
   ],
   "source": [
    "movies_data[movies_data['MovieID'].isin(most_rated.index)]"
   ]
  },
  {
   "cell_type": "code",
   "execution_count": null,
   "metadata": {},
   "outputs": [
    {
     "name": "stdout",
     "output_type": "stream",
     "text": [
      "Unique users: 6040\n"
     ]
    },
    {
     "name": "stdout",
     "output_type": "stream",
     "text": [
      "Unique movies: 3706\n",
      "count    6040.000000\n",
      "mean      165.597517\n",
      "std       192.747029\n",
      "min        20.000000\n",
      "25%        44.000000\n",
      "50%        96.000000\n",
      "75%       208.000000\n",
      "max      2314.000000\n",
      "dtype: float64\n"
     ]
    }
   ],
   "source": [
    "print(\"Unique users:\", ratings_data['UserID'].nunique())\n",
    "print(\"Unique movies:\", ratings_data['MovieID'].nunique())\n",
    "\n",
    "ratings_per_user = ratings_data.groupby('UserID').size()\n",
    "print(ratings_per_user.describe())"
   ]
  },
  {
   "cell_type": "code",
   "execution_count": null,
   "metadata": {},
   "outputs": [
    {
     "data": {
      "image/png": "[encoded data removed]",
      "text/plain": [
       "<Figure size 640x480 with 1 Axes>"
      ]
     },
     "metadata": {},
     "output_type": "display_data"
    }
   ],
   "source": [
    "ratings_data['Rating'].value_counts().sort_index().plot(kind='bar')\n",
    "plt.title(\"Rating Distribution\")\n",
    "plt.xlabel(\"Rating\")\n",
    "plt.ylabel(\"Count\")\n",
    "plt.show()"
   ]
  },
  {
   "cell_type": "code",
   "execution_count": null,
   "metadata": {},
   "outputs": [
    {
     "data": {
      "image/png": "[encoded data removed]",
      "text/plain": [
       "<Figure size 1400x600 with 1 Axes>"
      ]
     },
     "metadata": {},
     "output_type": "display_data"
    }
   ],
   "source": [
    "merged = ratings_data.merge(users_data, on='UserID').merge(movies_data, on='MovieID')\n",
    "\n",
    "merged['Genres'] = merged['Genres'].str.split('|')\n",
    "exploded = merged.explode('Genres')\n",
    "\n",
    "genre_gender = exploded.groupby(['Gender', 'Genres']).size().unstack(fill_value=0)\n",
    "\n",
    "genre_gender.T.plot(kind='bar', figsize=(14,6))\n",
    "plt.title(\"Top Genres by Gender\")\n",
    "plt.xlabel(\"Genre\")\n",
    "plt.ylabel(\"Number of Ratings\")\n",
    "plt.xticks(rotation=45)\n",
    "plt.tight_layout()\n",
    "plt.show()"
   ]
  },
  {
   "cell_type": "code",
   "execution_count": null,
   "metadata": {},
   "outputs": [
    {
     "data": {
      "image/png": "[encoded data removed]",
      "text/plain": [
       "<Figure size 1000x500 with 1 Axes>"
      ]
     },
     "metadata": {},
     "output_type": "display_data"
    }
   ],
   "source": [
    "min_ratings = 100\n",
    "\n",
    "avg_ratings = ratings_data.groupby('MovieID')['Rating'].agg(['mean', 'count'])\n",
    "\n",
    "popular = avg_ratings[avg_ratings['count'] >= min_ratings].sort_values(by='mean', ascending=False).head(10)\n",
    "\n",
    "top_avg = movies_data.merge(popular, left_on='MovieID', right_index=True)\n",
    "\n",
    "plt.figure(figsize=(10,5))\n",
    "plt.barh(top_avg['Title'], top_avg['mean'])\n",
    "plt.xlabel(\"Average Rating\")\n",
    "plt.title(\"Top 10 Movies by Average Rating (min 100 ratings)\")\n",
    "plt.gca().invert_yaxis()\n",
    "plt.tight_layout()\n",
    "plt.show()"
   ]
  },
  {
   "cell_type": "code",
   "execution_count": null,
   "metadata": {},
   "outputs": [
    {
     "data": {
      "image/png": "[encoded data removed]",
      "text/plain": [
       "<Figure size 1000x600 with 1 Axes>"
      ]
     },
     "metadata": {},
     "output_type": "display_data"
    },
    {
     "name": "stdout",
     "output_type": "stream",
     "text": [
      "           Genres                                          Title    Rating\n",
      "369        Action                                 Sanjuro (1962)  4.608696\n",
      "761     Adventure                        Ulysses (Ulisse) (1954)  5.000000\n",
      "801     Animation                          Close Shave, A (1995)  4.520548\n",
      "1129   Children's                       Wizard of Oz, The (1939)  4.247963\n",
      "1515       Comedy                        Follow the Bitch (1998)  5.000000\n",
      "2409        Crime                                   Lured (1947)  5.000000\n",
      "2510  Documentary                       Bittersweet Motel (2000)  5.000000\n",
      "3587        Drama                       One Little Indian (1973)  5.000000\n",
      "4154      Fantasy      Star Wars: Episode IV - A New Hope (1977)  4.453694\n",
      "4203    Film-Noir  Sunset Blvd. (a.k.a. Sunset Boulevard) (1950)  4.491489\n",
      "4237       Horror                               Baby, The (1973)  5.000000\n",
      "4639      Musical                     Singin' in the Rain (1952)  4.283622\n",
      "4705      Mystery                    Hour of the Pig, The (1993)  4.500000\n",
      "5137      Romance                           Skipped Parts (2000)  4.500000\n",
      "5447       Sci-Fi      Star Wars: Episode IV - A New Hope (1977)  4.453694\n",
      "5573     Thriller                          Close Shave, A (1995)  4.520548\n",
      "6098          War                        Schindler's List (1993)  4.510417\n",
      "6168      Western                       One Little Indian (1973)  5.000000\n"
     ]
    }
   ],
   "source": [
    "merged_movies = ratings_data.merge(movies_data, on='MovieID')\n",
    "merged_movies['Genres'] = merged_movies['Genres'].str.split('|')\n",
    "exploded_genres = merged_movies.explode('Genres')\n",
    "\n",
    "genre_ratings = exploded_genres.groupby(['Genres', 'Title'])['Rating'].mean().reset_index()\n",
    "\n",
    "top_per_genre = genre_ratings.sort_values(['Genres', 'Rating'], ascending=[True, False]).drop_duplicates('Genres')\n",
    "\n",
    "plt.figure(figsize=(10,6))\n",
    "plt.barh(top_per_genre['Genres'], top_per_genre['Rating'])\n",
    "plt.xlabel(\"Average Rating\")\n",
    "plt.title(\"Top Rated Movie in Each Genre\")\n",
    "plt.tight_layout()\n",
    "plt.show()\n",
    "\n",
    "print(top_per_genre[['Genres', 'Title', 'Rating']])"
   ]
  },
  {
   "cell_type": "markdown",
   "metadata": {},
   "source": [
    "## Modeling Recommendation System"
   ]
  },
  {
   "cell_type": "code",
   "execution_count": 26,
   "metadata": {},
   "outputs": [],
   "source": [
    "from surprise import Dataset, Reader\n",
    "\n",
    "reader = Reader(rating_scale=(1, 5))\n",
    "data = Dataset.load_from_df(ratings_data[['UserID', 'MovieID', 'Rating']], reader)"
   ]
  },
  {
   "cell_type": "code",
   "execution_count": 27,
   "metadata": {},
   "outputs": [],
   "source": [
    "from surprise.model_selection import train_test_split\n",
    "\n",
    "trainset, testset = train_test_split(data, test_size=0.2, random_state=42)"
   ]
  },
  {
   "cell_type": "code",
   "execution_count": null,
   "metadata": {},
   "outputs": [
    {
     "name": "stdout",
     "output_type": "stream",
     "text": [
      "RMSE: 0.8738\n",
      "RMSE: 0.873828646382939\n"
     ]
    }
   ],
   "source": [
    "from surprise import SVD\n",
    "from surprise import accuracy\n",
    "\n",
    "model = SVD()\n",
    "model.fit(trainset)\n",
    "\n",
    "predictions = model.test(testset)\n",
    "print(\"RMSE:\", accuracy.rmse(predictions))"
   ]
  },
  {
   "cell_type": "code",
   "execution_count": null,
   "metadata": {},
   "outputs": [],
   "source": [
    "movie_id_to_title = dict(zip(movies_data['MovieID'], movies_data['Title']))"
   ]
  },
  {
   "cell_type": "code",
   "execution_count": null,
   "metadata": {},
   "outputs": [],
   "source": [
    "def recommend_for_user(user_id, model, ratings_df, movie_df, n=10):\n",
    "    watched_movie_ids = ratings_df[ratings_df['UserID'] == user_id]['MovieID'].tolist()\n",
    "    all_movie_ids = movie_df['MovieID'].unique()\n",
    "    \n",
    "    movies_to_predict = [mid for mid in all_movie_ids if mid not in watched_movie_ids]\n",
    "\n",
    "    predictions = [model.predict(user_id, mid) for mid in movies_to_predict]\n",
    "    top_predictions = sorted(predictions, key=lambda x: x.est, reverse=True)[:n]\n",
    "\n",
    "    top_movie_titles = [movie_id_to_title[p.iid] for p in top_predictions]\n",
    "    return top_movie_titles"
   ]
  },
  {
   "cell_type": "code",
   "execution_count": 31,
   "metadata": {},
   "outputs": [
    {
     "data": {
      "text/plain": [
       "['Shawshank Redemption, The (1994)',\n",
       " \"It's a Wonderful Life (1946)\",\n",
       " 'Wrong Trousers, The (1993)',\n",
       " 'Raiders of the Lost Ark (1981)',\n",
       " 'Yojimbo (1961)',\n",
       " 'Arsenic and Old Lace (1944)',\n",
       " 'Silence of the Lambs, The (1991)',\n",
       " 'October Sky (1999)',\n",
       " 'Rear Window (1954)',\n",
       " 'General, The (1927)']"
      ]
     },
     "execution_count": 31,
     "metadata": {},
     "output_type": "execute_result"
    }
   ],
   "source": [
    "user_id = 1\n",
    "recommend_for_user(user_id, model, ratings_data, movies_data)"
   ]
  },
  {
   "cell_type": "code",
   "execution_count": null,
   "metadata": {},
   "outputs": [],
   "source": [
    "def recommend_for_user(user_id, model, ratings_df, movie_df, n=10):\n",
    "    watched_movie_ids = ratings_df[ratings_df['UserID'] == user_id]['MovieID'].tolist()\n",
    "    all_movie_ids = movie_df['MovieID'].unique()\n",
    "    \n",
    "    movies_to_predict = [mid for mid in all_movie_ids if mid not in watched_movie_ids]\n",
    "\n",
    "    predictions = [model.predict(user_id, mid) for mid in movies_to_predict]\n",
    "    top_predictions = sorted(predictions, key=lambda x: x.est, reverse=True)[:n]\n",
    "\n",
    "    top_movie_titles = [movie_id_to_title[p.iid] for p in top_predictions]\n",
    "    return top_movie_titles"
   ]
  },
  {
   "cell_type": "code",
   "execution_count": 33,
   "metadata": {},
   "outputs": [
    {
     "name": "stdout",
     "output_type": "stream",
     "text": [
      "Top Recommendations for User 1:\n",
      "\n",
      "1. It's a Wonderful Life (1946)\n",
      "2. Sound of Music, The (1965)\n",
      "3. When Harry Met Sally... (1989)\n",
      "4. Sting, The (1973)\n",
      "5. Christmas Story, A (1983)\n",
      "6. Wizard of Oz, The (1939)\n",
      "7. Sanjuro (1962)\n",
      "8. Philadelphia (1993)\n",
      "9. Sunset Blvd. (a.k.a. Sunset Boulevard) (1950)\n",
      "10. Sixth Sense, The (1999)\n"
     ]
    }
   ],
   "source": [
    "recommendations = recommend_for_user(2, model, ratings_data, movies_data)\n",
    "print(\"Top Recommendations for User 1:\\n\")\n",
    "for idx, movie in enumerate(recommendations, 1):\n",
    "    print(f\"{idx}. {movie}\")"
   ]
  },
  {
   "cell_type": "markdown",
   "metadata": {},
   "source": [
    "## Save the model"
   ]
  },
  {
   "cell_type": "code",
   "execution_count": null,
   "metadata": {},
   "outputs": [],
   "source": [
    "import pickle\n",
    "\n",
    "with open(\"model/svd_model.pkl\", \"wb\") as f:\n",
    "    pickle.dump(model, f)\n"
   ]
  },
  {
   "cell_type": "markdown",
   "metadata": {},
   "source": [
    "## Content-Based Recommendation System"
   ]
  },
  {
   "cell_type": "code",
   "execution_count": null,
   "metadata": {},
   "outputs": [
    {
     "name": "stdout",
     "output_type": "stream",
     "text": [
      "TF-IDF Matrix shape: (3883, 4369)\n"
     ]
    }
   ],
   "source": [
    "from sklearn.feature_extraction.text import TfidfVectorizer\n",
    "\n",
    "movies_data['Content'] = movies_data['Title'] + \" \" + movies_data['Genres']\n",
    "\n",
    "tfidf = TfidfVectorizer(stop_words='english')\n",
    "tfidf_matrix = tfidf.fit_transform(movies_data['Content'])\n",
    "\n",
    "print(\"TF-IDF Matrix shape:\", tfidf_matrix.shape)"
   ]
  },
  {
   "cell_type": "code",
   "execution_count": null,
   "metadata": {},
   "outputs": [],
   "source": [
    "from sklearn.metrics.pairwise import cosine_similarity\n",
    "\n",
    "cosine_sim = cosine_similarity(tfidf_matrix, tfidf_matrix)\n",
    "title_to_index = pd.Series(movies_data.index, index=movies_data['Title']).drop_duplicates()"
   ]
  },
  {
   "cell_type": "code",
   "execution_count": 37,
   "metadata": {},
   "outputs": [
    {
     "data": {
      "text/plain": [
       "['Movie not found.']"
      ]
     },
     "execution_count": 37,
     "metadata": {},
     "output_type": "execute_result"
    }
   ],
   "source": [
    "def recommend_similar_movies(title, cosine_sim=cosine_sim, top_n=10):\n",
    "    if title not in title_to_index:\n",
    "        return [\"Movie not found.\"]\n",
    "    \n",
    "    idx = title_to_index[title]\n",
    "    sim_scores = list(enumerate(cosine_sim[idx]))\n",
    "    sim_scores = sorted(sim_scores, key=lambda x: x[1], reverse=True)[1:top_n+1]\n",
    "    \n",
    "    movie_indices = [i[0] for i in sim_scores]\n",
    "    return movies_data.iloc[movie_indices][['Title', 'Genres']]\n",
    "\n",
    "recommend_similar_movies(\"Inception\")"
   ]
  },
  {
   "cell_type": "code",
   "execution_count": null,
   "metadata": {},
   "outputs": [
    {
     "name": "stderr",
     "output_type": "stream",
     "text": [
      "C:\\Users\\jgdod\\AppData\\Local\\Temp\\ipykernel_17372\\4127224143.py:4: RuntimeWarning: Mean of empty slice.\n",
      "  sim_scores = cosine_sim[indices].mean(axis=0)\n",
      "c:\\Users\\jgdod\\AppData\\Local\\anaconda3\\Lib\\site-packages\\numpy\\core\\_methods.py:121: RuntimeWarning: invalid value encountered in divide\n",
      "  ret = um.true_divide(\n"
     ]
    },
    {
     "data": {
      "text/html": [
       "<div>\n",
       "<style scoped>\n",
       "    .dataframe tbody tr th:only-of-type {\n",
       "        vertical-align: middle;\n",
       "    }\n",
       "\n",
       "    .dataframe tbody tr th {\n",
       "        vertical-align: top;\n",
       "    }\n",
       "\n",
       "    .dataframe thead th {\n",
       "        text-align: right;\n",
       "    }\n",
       "</style>\n",
       "<table border=\"1\" class=\"dataframe\">\n",
       "  <thead>\n",
       "    <tr style=\"text-align: right;\">\n",
       "      <th></th>\n",
       "      <th>Title</th>\n",
       "      <th>Genres</th>\n",
       "    </tr>\n",
       "  </thead>\n",
       "  <tbody>\n",
       "    <tr>\n",
       "      <th>0</th>\n",
       "      <td>Toy Story (1995)</td>\n",
       "      <td>Animation|Children's|Comedy</td>\n",
       "    </tr>\n",
       "    <tr>\n",
       "      <th>1</th>\n",
       "      <td>Jumanji (1995)</td>\n",
       "      <td>Adventure|Children's|Fantasy</td>\n",
       "    </tr>\n",
       "    <tr>\n",
       "      <th>2</th>\n",
       "      <td>Grumpier Old Men (1995)</td>\n",
       "      <td>Comedy|Romance</td>\n",
       "    </tr>\n",
       "    <tr>\n",
       "      <th>3</th>\n",
       "      <td>Waiting to Exhale (1995)</td>\n",
       "      <td>Comedy|Drama</td>\n",
       "    </tr>\n",
       "    <tr>\n",
       "      <th>4</th>\n",
       "      <td>Father of the Bride Part II (1995)</td>\n",
       "      <td>Comedy</td>\n",
       "    </tr>\n",
       "    <tr>\n",
       "      <th>5</th>\n",
       "      <td>Heat (1995)</td>\n",
       "      <td>Action|Crime|Thriller</td>\n",
       "    </tr>\n",
       "    <tr>\n",
       "      <th>6</th>\n",
       "      <td>Sabrina (1995)</td>\n",
       "      <td>Comedy|Romance</td>\n",
       "    </tr>\n",
       "    <tr>\n",
       "      <th>7</th>\n",
       "      <td>Tom and Huck (1995)</td>\n",
       "      <td>Adventure|Children's</td>\n",
       "    </tr>\n",
       "    <tr>\n",
       "      <th>8</th>\n",
       "      <td>Sudden Death (1995)</td>\n",
       "      <td>Action</td>\n",
       "    </tr>\n",
       "    <tr>\n",
       "      <th>9</th>\n",
       "      <td>GoldenEye (1995)</td>\n",
       "      <td>Action|Adventure|Thriller</td>\n",
       "    </tr>\n",
       "  </tbody>\n",
       "</table>\n",
       "</div>"
      ],
      "text/plain": [
       "                                Title                        Genres\n",
       "0                    Toy Story (1995)   Animation|Children's|Comedy\n",
       "1                      Jumanji (1995)  Adventure|Children's|Fantasy\n",
       "2             Grumpier Old Men (1995)                Comedy|Romance\n",
       "3            Waiting to Exhale (1995)                  Comedy|Drama\n",
       "4  Father of the Bride Part II (1995)                        Comedy\n",
       "5                         Heat (1995)         Action|Crime|Thriller\n",
       "6                      Sabrina (1995)                Comedy|Romance\n",
       "7                 Tom and Huck (1995)          Adventure|Children's\n",
       "8                 Sudden Death (1995)                        Action\n",
       "9                    GoldenEye (1995)     Action|Adventure|Thriller"
      ]
     },
     "execution_count": 38,
     "metadata": {},
     "output_type": "execute_result"
    }
   ],
   "source": [
    "def recommend_based_on_liked(liked_titles, top_n=10):\n",
    "    indices = [title_to_index[title] for title in liked_titles if title in title_to_index]\n",
    "\n",
    "    sim_scores = cosine_sim[indices].mean(axis=0)\n",
    "    sim_scores = list(enumerate(sim_scores))\n",
    "    sim_scores = sorted(sim_scores, key=lambda x: x[1], reverse=True)\n",
    "\n",
    "    liked_indices = set(indices)\n",
    "    filtered = [i for i in sim_scores if i[0] not in liked_indices][:top_n]\n",
    "\n",
    "    movie_indices = [i[0] for i in filtered]\n",
    "    return movies_data.iloc[movie_indices][['Title', 'Genres']]\n",
    "\n",
    "liked = [\"The Matrix\", \"Fight Club\", \"The Dark Knight\"]\n",
    "recommend_based_on_liked(liked)"
   ]
  },
  {
   "cell_type": "code",
   "execution_count": 39,
   "metadata": {},
   "outputs": [],
   "source": [
    "def get_unwatched_movies(user_id, ratings_df, movie_df):\n",
    "    watched = ratings_df[ratings_df['UserID'] == user_id]['MovieID'].tolist()\n",
    "    all_movie_ids = movie_df['MovieID'].tolist()\n",
    "    return [mid for mid in all_movie_ids if mid not in watched]"
   ]
  },
  {
   "cell_type": "code",
   "execution_count": null,
   "metadata": {},
   "outputs": [],
   "source": [
    "def hybrid_recommend(user_id, model, liked_titles=None, top_n=10, alpha=0.7):\n",
    "    unwatched = get_unwatched_movies(user_id, ratings_data, movies_data)\n",
    "\n",
    "    cf_scores = []\n",
    "    for mid in unwatched:\n",
    "        pred = model.predict(user_id, mid)\n",
    "        cf_scores.append((mid, pred.est))\n",
    "    cf_scores = pd.DataFrame(cf_scores, columns=['MovieID', 'CF_Score'])\n",
    "\n",
    "    if not liked_titles:\n",
    "        top_cf = cf_scores.sort_values(by='CF_Score', ascending=False).head(top_n)\n",
    "        return movies_data[movies_data['MovieID'].isin(top_cf['MovieID'])][['Title', 'Genres']]\n",
    "\n",
    "    liked_indices = [title_to_index[title] for title in liked_titles if title in title_to_index]\n",
    "    \n",
    "    if not liked_indices:\n",
    "        print(\"⚠️ None of the liked movies are found. Falling back to CF-only.\")\n",
    "        top_cf = cf_scores.sort_values(by='CF_Score', ascending=False).head(top_n)\n",
    "        return movies_data[movies_data['MovieID'].isin(top_cf['MovieID'])][['Title', 'Genres']]\n",
    "\n",
    "    content_scores = cosine_sim[liked_indices].mean(axis=0)\n",
    "    content_scores = list(enumerate(content_scores))\n",
    "    content_scores = pd.DataFrame(content_scores, columns=['Index', 'Content_Score'])\n",
    "    content_scores['MovieID'] = movies_data.iloc[content_scores['Index']]['MovieID'].values\n",
    "\n",
    "    hybrid = cf_scores.merge(content_scores[['MovieID', 'Content_Score']], on='MovieID')\n",
    "\n",
    "    from sklearn.preprocessing import MinMaxScaler\n",
    "    scaler = MinMaxScaler()\n",
    "    hybrid[['CF_Score', 'Content_Score']] = scaler.fit_transform(hybrid[['CF_Score', 'Content_Score']])\n",
    "\n",
    "    hybrid['Hybrid_Score'] = alpha * hybrid['CF_Score'] + (1 - alpha) * hybrid['Content_Score']\n",
    "\n",
    "    top = hybrid.sort_values(by='Hybrid_Score', ascending=False).head(top_n)\n",
    "    return movies_data[movies_data['MovieID'].isin(top['MovieID'])][['Title', 'Genres']]"
   ]
  },
  {
   "cell_type": "code",
   "execution_count": 41,
   "metadata": {},
   "outputs": [
    {
     "name": "stdout",
     "output_type": "stream",
     "text": [
      "                                 Title                   Genres\n",
      "315   Shawshank Redemption, The (1994)                    Drama\n",
      "589   Silence of the Lambs, The (1991)           Drama|Thriller\n",
      "892                 Rear Window (1954)         Mystery|Thriller\n",
      "941       It's a Wonderful Life (1946)                    Drama\n",
      "1132        Wrong Trousers, The (1993)         Animation|Comedy\n",
      "1180    Raiders of the Lost Ark (1981)         Action|Adventure\n",
      "1249       Arsenic and Old Lace (1944)  Comedy|Mystery|Thriller\n",
      "2432                October Sky (1999)                    Drama\n",
      "2953               General, The (1927)                   Comedy\n",
      "2961                    Yojimbo (1961)     Comedy|Drama|Western\n"
     ]
    }
   ],
   "source": [
    "recommendations = hybrid_recommend(user_id=1, model=model, liked_titles=None, top_n=10)\n",
    "print(recommendations)"
   ]
  },
  {
   "cell_type": "code",
   "execution_count": null,
   "metadata": {},
   "outputs": [],
   "source": []
  },
  {
   "cell_type": "code",
   "execution_count": null,
   "metadata": {},
   "outputs": [],
   "source": []
  }
 ],
 "metadata": {
  "kernelspec": {
   "display_name": "base",
   "language": "python",
   "name": "python3"
  },
  "language_info": {
   "codemirror_mode": {
    "name": "ipython",
    "version": 3
   },
   "file_extension": ".py",
   "mimetype": "text/x-python",
   "name": "python",
   "nbconvert_exporter": "python",
   "pygments_lexer": "ipython3",
   "version": "3.12.3"
  }
 },
 "nbformat": 4,
 "nbformat_minor": 2
}
